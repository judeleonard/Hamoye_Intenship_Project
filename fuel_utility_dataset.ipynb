{
 "cells": [
  {
   "cell_type": "markdown",
   "metadata": {},
   "source": [
    "## Exploratory Data Analysis on Fuel Utility Data"
   ]
  },
  {
   "cell_type": "markdown",
   "metadata": {},
   "source": [
    "### Problem-1: Read to data "
   ]
  },
  {
   "cell_type": "markdown",
   "metadata": {},
   "source": [
    "Read the url data and save to my local drive"
   ]
  },
  {
   "cell_type": "code",
   "execution_count": 2,
   "metadata": {},
   "outputs": [],
   "source": [
    "import pandas as pd\n",
    "url='https://raw.githubusercontent.com/WalePhenomenon/climate_change/master/fuel_ferc1.csv'\n",
    "data=pd.read_csv(url, index_col=0)\n",
    "data.to_csv('C:\\\\Users\\\\Ebuka\\\\fuel_ferc1.csv')\n"
   ]
  },
  {
   "cell_type": "markdown",
   "metadata": {},
   "source": [
    "###### importing and re-reading my data directly from the saved csv file in my local drive"
   ]
  },
  {
   "cell_type": "code",
   "execution_count": 1,
   "metadata": {},
   "outputs": [
    {
     "data": {
      "text/html": [
       "<div>\n",
       "<style scoped>\n",
       "    .dataframe tbody tr th:only-of-type {\n",
       "        vertical-align: middle;\n",
       "    }\n",
       "\n",
       "    .dataframe tbody tr th {\n",
       "        vertical-align: top;\n",
       "    }\n",
       "\n",
       "    .dataframe thead th {\n",
       "        text-align: right;\n",
       "    }\n",
       "</style>\n",
       "<table border=\"1\" class=\"dataframe\">\n",
       "  <thead>\n",
       "    <tr style=\"text-align: right;\">\n",
       "      <th></th>\n",
       "      <th>utility_id_ferc1</th>\n",
       "      <th>report_year</th>\n",
       "      <th>plant_name_ferc1</th>\n",
       "      <th>fuel_type_code_pudl</th>\n",
       "      <th>fuel_unit</th>\n",
       "      <th>fuel_qty_burned</th>\n",
       "      <th>fuel_mmbtu_per_unit</th>\n",
       "      <th>fuel_cost_per_unit_burned</th>\n",
       "      <th>fuel_cost_per_unit_delivered</th>\n",
       "      <th>fuel_cost_per_mmbtu</th>\n",
       "    </tr>\n",
       "    <tr>\n",
       "      <th>record_id</th>\n",
       "      <th></th>\n",
       "      <th></th>\n",
       "      <th></th>\n",
       "      <th></th>\n",
       "      <th></th>\n",
       "      <th></th>\n",
       "      <th></th>\n",
       "      <th></th>\n",
       "      <th></th>\n",
       "      <th></th>\n",
       "    </tr>\n",
       "  </thead>\n",
       "  <tbody>\n",
       "    <tr>\n",
       "      <th>f1_fuel_1994_12_1_0_7</th>\n",
       "      <td>1</td>\n",
       "      <td>1994</td>\n",
       "      <td>rockport</td>\n",
       "      <td>coal</td>\n",
       "      <td>ton</td>\n",
       "      <td>5377489.0</td>\n",
       "      <td>16.590</td>\n",
       "      <td>18.59</td>\n",
       "      <td>18.53</td>\n",
       "      <td>1.121</td>\n",
       "    </tr>\n",
       "    <tr>\n",
       "      <th>f1_fuel_1994_12_1_0_10</th>\n",
       "      <td>1</td>\n",
       "      <td>1994</td>\n",
       "      <td>rockport total plant</td>\n",
       "      <td>coal</td>\n",
       "      <td>ton</td>\n",
       "      <td>10486945.0</td>\n",
       "      <td>16.592</td>\n",
       "      <td>18.58</td>\n",
       "      <td>18.53</td>\n",
       "      <td>1.120</td>\n",
       "    </tr>\n",
       "    <tr>\n",
       "      <th>f1_fuel_1994_12_2_0_1</th>\n",
       "      <td>2</td>\n",
       "      <td>1994</td>\n",
       "      <td>gorgas</td>\n",
       "      <td>coal</td>\n",
       "      <td>ton</td>\n",
       "      <td>2978683.0</td>\n",
       "      <td>24.130</td>\n",
       "      <td>39.72</td>\n",
       "      <td>38.12</td>\n",
       "      <td>1.650</td>\n",
       "    </tr>\n",
       "    <tr>\n",
       "      <th>f1_fuel_1994_12_2_0_7</th>\n",
       "      <td>2</td>\n",
       "      <td>1994</td>\n",
       "      <td>barry</td>\n",
       "      <td>coal</td>\n",
       "      <td>ton</td>\n",
       "      <td>3739484.0</td>\n",
       "      <td>23.950</td>\n",
       "      <td>47.21</td>\n",
       "      <td>45.99</td>\n",
       "      <td>1.970</td>\n",
       "    </tr>\n",
       "    <tr>\n",
       "      <th>f1_fuel_1994_12_2_0_10</th>\n",
       "      <td>2</td>\n",
       "      <td>1994</td>\n",
       "      <td>chickasaw</td>\n",
       "      <td>gas</td>\n",
       "      <td>mcf</td>\n",
       "      <td>40533.0</td>\n",
       "      <td>1.000</td>\n",
       "      <td>2.77</td>\n",
       "      <td>2.77</td>\n",
       "      <td>2.570</td>\n",
       "    </tr>\n",
       "  </tbody>\n",
       "</table>\n",
       "</div>"
      ],
      "text/plain": [
       "                        utility_id_ferc1  report_year      plant_name_ferc1  \\\n",
       "record_id                                                                     \n",
       "f1_fuel_1994_12_1_0_7                  1         1994              rockport   \n",
       "f1_fuel_1994_12_1_0_10                 1         1994  rockport total plant   \n",
       "f1_fuel_1994_12_2_0_1                  2         1994                gorgas   \n",
       "f1_fuel_1994_12_2_0_7                  2         1994                 barry   \n",
       "f1_fuel_1994_12_2_0_10                 2         1994             chickasaw   \n",
       "\n",
       "                       fuel_type_code_pudl fuel_unit  fuel_qty_burned  \\\n",
       "record_id                                                               \n",
       "f1_fuel_1994_12_1_0_7                 coal       ton        5377489.0   \n",
       "f1_fuel_1994_12_1_0_10                coal       ton       10486945.0   \n",
       "f1_fuel_1994_12_2_0_1                 coal       ton        2978683.0   \n",
       "f1_fuel_1994_12_2_0_7                 coal       ton        3739484.0   \n",
       "f1_fuel_1994_12_2_0_10                 gas       mcf          40533.0   \n",
       "\n",
       "                        fuel_mmbtu_per_unit  fuel_cost_per_unit_burned  \\\n",
       "record_id                                                                \n",
       "f1_fuel_1994_12_1_0_7                16.590                      18.59   \n",
       "f1_fuel_1994_12_1_0_10               16.592                      18.58   \n",
       "f1_fuel_1994_12_2_0_1                24.130                      39.72   \n",
       "f1_fuel_1994_12_2_0_7                23.950                      47.21   \n",
       "f1_fuel_1994_12_2_0_10                1.000                       2.77   \n",
       "\n",
       "                        fuel_cost_per_unit_delivered  fuel_cost_per_mmbtu  \n",
       "record_id                                                                  \n",
       "f1_fuel_1994_12_1_0_7                          18.53                1.121  \n",
       "f1_fuel_1994_12_1_0_10                         18.53                1.120  \n",
       "f1_fuel_1994_12_2_0_1                          38.12                1.650  \n",
       "f1_fuel_1994_12_2_0_7                          45.99                1.970  \n",
       "f1_fuel_1994_12_2_0_10                          2.77                2.570  "
      ]
     },
     "execution_count": 1,
     "metadata": {},
     "output_type": "execute_result"
    }
   ],
   "source": [
    "import pandas as pd\n",
    "data=pd.read_csv('C:\\\\Users\\\\Ebuka\\\\fuel_ferc1.csv',index_col=0)\n",
    "data.head()"
   ]
  },
  {
   "cell_type": "markdown",
   "metadata": {},
   "source": [
    "### Problem-2: Data preprocessing"
   ]
  },
  {
   "cell_type": "code",
   "execution_count": 2,
   "metadata": {},
   "outputs": [
    {
     "data": {
      "text/plain": [
       "utility_id_ferc1                  0\n",
       "report_year                       0\n",
       "plant_name_ferc1                  0\n",
       "fuel_type_code_pudl               0\n",
       "fuel_unit                       180\n",
       "fuel_qty_burned                   0\n",
       "fuel_mmbtu_per_unit               0\n",
       "fuel_cost_per_unit_burned         0\n",
       "fuel_cost_per_unit_delivered      0\n",
       "fuel_cost_per_mmbtu               0\n",
       "dtype: int64"
      ]
     },
     "execution_count": 2,
     "metadata": {},
     "output_type": "execute_result"
    }
   ],
   "source": [
    "data.isna().sum()"
   ]
  },
  {
   "cell_type": "code",
   "execution_count": 3,
   "metadata": {},
   "outputs": [
    {
     "data": {
      "text/html": [
       "<div>\n",
       "<style scoped>\n",
       "    .dataframe tbody tr th:only-of-type {\n",
       "        vertical-align: middle;\n",
       "    }\n",
       "\n",
       "    .dataframe tbody tr th {\n",
       "        vertical-align: top;\n",
       "    }\n",
       "\n",
       "    .dataframe thead th {\n",
       "        text-align: right;\n",
       "    }\n",
       "</style>\n",
       "<table border=\"1\" class=\"dataframe\">\n",
       "  <thead>\n",
       "    <tr style=\"text-align: right;\">\n",
       "      <th></th>\n",
       "      <th>utility_id_ferc1</th>\n",
       "      <th>report_year</th>\n",
       "      <th>plant_name_ferc1</th>\n",
       "      <th>fuel_type_code_pudl</th>\n",
       "      <th>fuel_unit</th>\n",
       "      <th>fuel_qty_burned</th>\n",
       "      <th>fuel_mmbtu_per_unit</th>\n",
       "      <th>fuel_cost_per_unit_burned</th>\n",
       "      <th>fuel_cost_per_unit_delivered</th>\n",
       "      <th>fuel_cost_per_mmbtu</th>\n",
       "    </tr>\n",
       "    <tr>\n",
       "      <th>record_id</th>\n",
       "      <th></th>\n",
       "      <th></th>\n",
       "      <th></th>\n",
       "      <th></th>\n",
       "      <th></th>\n",
       "      <th></th>\n",
       "      <th></th>\n",
       "      <th></th>\n",
       "      <th></th>\n",
       "      <th></th>\n",
       "    </tr>\n",
       "  </thead>\n",
       "  <tbody>\n",
       "    <tr>\n",
       "      <th>f1_fuel_1994_12_1_0_7</th>\n",
       "      <td>1</td>\n",
       "      <td>1994</td>\n",
       "      <td>rockport</td>\n",
       "      <td>coal</td>\n",
       "      <td>ton</td>\n",
       "      <td>5377489.0</td>\n",
       "      <td>16.590</td>\n",
       "      <td>18.59</td>\n",
       "      <td>18.53</td>\n",
       "      <td>1.121</td>\n",
       "    </tr>\n",
       "    <tr>\n",
       "      <th>f1_fuel_1994_12_1_0_10</th>\n",
       "      <td>1</td>\n",
       "      <td>1994</td>\n",
       "      <td>rockport total plant</td>\n",
       "      <td>coal</td>\n",
       "      <td>ton</td>\n",
       "      <td>10486945.0</td>\n",
       "      <td>16.592</td>\n",
       "      <td>18.58</td>\n",
       "      <td>18.53</td>\n",
       "      <td>1.120</td>\n",
       "    </tr>\n",
       "    <tr>\n",
       "      <th>f1_fuel_1994_12_2_0_1</th>\n",
       "      <td>2</td>\n",
       "      <td>1994</td>\n",
       "      <td>gorgas</td>\n",
       "      <td>coal</td>\n",
       "      <td>ton</td>\n",
       "      <td>2978683.0</td>\n",
       "      <td>24.130</td>\n",
       "      <td>39.72</td>\n",
       "      <td>38.12</td>\n",
       "      <td>1.650</td>\n",
       "    </tr>\n",
       "    <tr>\n",
       "      <th>f1_fuel_1994_12_2_0_7</th>\n",
       "      <td>2</td>\n",
       "      <td>1994</td>\n",
       "      <td>barry</td>\n",
       "      <td>coal</td>\n",
       "      <td>ton</td>\n",
       "      <td>3739484.0</td>\n",
       "      <td>23.950</td>\n",
       "      <td>47.21</td>\n",
       "      <td>45.99</td>\n",
       "      <td>1.970</td>\n",
       "    </tr>\n",
       "    <tr>\n",
       "      <th>f1_fuel_1994_12_2_0_10</th>\n",
       "      <td>2</td>\n",
       "      <td>1994</td>\n",
       "      <td>chickasaw</td>\n",
       "      <td>gas</td>\n",
       "      <td>mcf</td>\n",
       "      <td>40533.0</td>\n",
       "      <td>1.000</td>\n",
       "      <td>2.77</td>\n",
       "      <td>2.77</td>\n",
       "      <td>2.570</td>\n",
       "    </tr>\n",
       "    <tr>\n",
       "      <th>...</th>\n",
       "      <td>...</td>\n",
       "      <td>...</td>\n",
       "      <td>...</td>\n",
       "      <td>...</td>\n",
       "      <td>...</td>\n",
       "      <td>...</td>\n",
       "      <td>...</td>\n",
       "      <td>...</td>\n",
       "      <td>...</td>\n",
       "      <td>...</td>\n",
       "    </tr>\n",
       "    <tr>\n",
       "      <th>f1_fuel_2018_12_12_0_13</th>\n",
       "      <td>12</td>\n",
       "      <td>2018</td>\n",
       "      <td>neil simpson ct #1</td>\n",
       "      <td>gas</td>\n",
       "      <td>mcf</td>\n",
       "      <td>18799.0</td>\n",
       "      <td>1.059</td>\n",
       "      <td>4.78</td>\n",
       "      <td>4.78</td>\n",
       "      <td>9.030</td>\n",
       "    </tr>\n",
       "    <tr>\n",
       "      <th>f1_fuel_2018_12_12_1_1</th>\n",
       "      <td>12</td>\n",
       "      <td>2018</td>\n",
       "      <td>cheyenne prairie 58%</td>\n",
       "      <td>gas</td>\n",
       "      <td>mcf</td>\n",
       "      <td>806730.0</td>\n",
       "      <td>1.050</td>\n",
       "      <td>3.65</td>\n",
       "      <td>3.65</td>\n",
       "      <td>6.950</td>\n",
       "    </tr>\n",
       "    <tr>\n",
       "      <th>f1_fuel_2018_12_12_1_10</th>\n",
       "      <td>12</td>\n",
       "      <td>2018</td>\n",
       "      <td>lange ct facility</td>\n",
       "      <td>gas</td>\n",
       "      <td>mcf</td>\n",
       "      <td>104554.0</td>\n",
       "      <td>1.060</td>\n",
       "      <td>4.77</td>\n",
       "      <td>4.77</td>\n",
       "      <td>8.990</td>\n",
       "    </tr>\n",
       "    <tr>\n",
       "      <th>f1_fuel_2018_12_12_1_13</th>\n",
       "      <td>12</td>\n",
       "      <td>2018</td>\n",
       "      <td>wygen 3 bhp 52%</td>\n",
       "      <td>coal</td>\n",
       "      <td>ton</td>\n",
       "      <td>315945.0</td>\n",
       "      <td>16.108</td>\n",
       "      <td>3.06</td>\n",
       "      <td>14.76</td>\n",
       "      <td>1.110</td>\n",
       "    </tr>\n",
       "    <tr>\n",
       "      <th>f1_fuel_2018_12_12_1_14</th>\n",
       "      <td>12</td>\n",
       "      <td>2018</td>\n",
       "      <td>wygen 3 bhp 52%</td>\n",
       "      <td>gas</td>\n",
       "      <td>mcf</td>\n",
       "      <td>17853.0</td>\n",
       "      <td>1.059</td>\n",
       "      <td>0.00</td>\n",
       "      <td>0.00</td>\n",
       "      <td>11.680</td>\n",
       "    </tr>\n",
       "  </tbody>\n",
       "</table>\n",
       "<p>29343 rows × 10 columns</p>\n",
       "</div>"
      ],
      "text/plain": [
       "                         utility_id_ferc1  report_year      plant_name_ferc1  \\\n",
       "record_id                                                                      \n",
       "f1_fuel_1994_12_1_0_7                   1         1994              rockport   \n",
       "f1_fuel_1994_12_1_0_10                  1         1994  rockport total plant   \n",
       "f1_fuel_1994_12_2_0_1                   2         1994                gorgas   \n",
       "f1_fuel_1994_12_2_0_7                   2         1994                 barry   \n",
       "f1_fuel_1994_12_2_0_10                  2         1994             chickasaw   \n",
       "...                                   ...          ...                   ...   \n",
       "f1_fuel_2018_12_12_0_13                12         2018    neil simpson ct #1   \n",
       "f1_fuel_2018_12_12_1_1                 12         2018  cheyenne prairie 58%   \n",
       "f1_fuel_2018_12_12_1_10                12         2018     lange ct facility   \n",
       "f1_fuel_2018_12_12_1_13                12         2018       wygen 3 bhp 52%   \n",
       "f1_fuel_2018_12_12_1_14                12         2018       wygen 3 bhp 52%   \n",
       "\n",
       "                        fuel_type_code_pudl fuel_unit  fuel_qty_burned  \\\n",
       "record_id                                                                \n",
       "f1_fuel_1994_12_1_0_7                  coal       ton        5377489.0   \n",
       "f1_fuel_1994_12_1_0_10                 coal       ton       10486945.0   \n",
       "f1_fuel_1994_12_2_0_1                  coal       ton        2978683.0   \n",
       "f1_fuel_1994_12_2_0_7                  coal       ton        3739484.0   \n",
       "f1_fuel_1994_12_2_0_10                  gas       mcf          40533.0   \n",
       "...                                     ...       ...              ...   \n",
       "f1_fuel_2018_12_12_0_13                 gas       mcf          18799.0   \n",
       "f1_fuel_2018_12_12_1_1                  gas       mcf         806730.0   \n",
       "f1_fuel_2018_12_12_1_10                 gas       mcf         104554.0   \n",
       "f1_fuel_2018_12_12_1_13                coal       ton         315945.0   \n",
       "f1_fuel_2018_12_12_1_14                 gas       mcf          17853.0   \n",
       "\n",
       "                         fuel_mmbtu_per_unit  fuel_cost_per_unit_burned  \\\n",
       "record_id                                                                 \n",
       "f1_fuel_1994_12_1_0_7                 16.590                      18.59   \n",
       "f1_fuel_1994_12_1_0_10                16.592                      18.58   \n",
       "f1_fuel_1994_12_2_0_1                 24.130                      39.72   \n",
       "f1_fuel_1994_12_2_0_7                 23.950                      47.21   \n",
       "f1_fuel_1994_12_2_0_10                 1.000                       2.77   \n",
       "...                                      ...                        ...   \n",
       "f1_fuel_2018_12_12_0_13                1.059                       4.78   \n",
       "f1_fuel_2018_12_12_1_1                 1.050                       3.65   \n",
       "f1_fuel_2018_12_12_1_10                1.060                       4.77   \n",
       "f1_fuel_2018_12_12_1_13               16.108                       3.06   \n",
       "f1_fuel_2018_12_12_1_14                1.059                       0.00   \n",
       "\n",
       "                         fuel_cost_per_unit_delivered  fuel_cost_per_mmbtu  \n",
       "record_id                                                                   \n",
       "f1_fuel_1994_12_1_0_7                           18.53                1.121  \n",
       "f1_fuel_1994_12_1_0_10                          18.53                1.120  \n",
       "f1_fuel_1994_12_2_0_1                           38.12                1.650  \n",
       "f1_fuel_1994_12_2_0_7                           45.99                1.970  \n",
       "f1_fuel_1994_12_2_0_10                           2.77                2.570  \n",
       "...                                               ...                  ...  \n",
       "f1_fuel_2018_12_12_0_13                          4.78                9.030  \n",
       "f1_fuel_2018_12_12_1_1                           3.65                6.950  \n",
       "f1_fuel_2018_12_12_1_10                          4.77                8.990  \n",
       "f1_fuel_2018_12_12_1_13                         14.76                1.110  \n",
       "f1_fuel_2018_12_12_1_14                          0.00               11.680  \n",
       "\n",
       "[29343 rows x 10 columns]"
      ]
     },
     "execution_count": 3,
     "metadata": {},
     "output_type": "execute_result"
    }
   ],
   "source": [
    "data.dropna()      ##droping the missing values"
   ]
  },
  {
   "cell_type": "code",
   "execution_count": 4,
   "metadata": {},
   "outputs": [
    {
     "name": "stdout",
     "output_type": "stream",
     "text": [
      "       utility_id_ferc1   report_year  fuel_qty_burned  fuel_mmbtu_per_unit  \\\n",
      "count      29523.000000  29523.000000     2.952300e+04         29523.000000   \n",
      "mean         118.601836   2005.806050     2.622119e+06             8.492111   \n",
      "std           74.178353      7.025483     9.118004e+06            10.600220   \n",
      "min            1.000000   1994.000000     1.000000e+00             0.000001   \n",
      "25%           55.000000   2000.000000     1.381700e+04             1.024000   \n",
      "50%          122.000000   2006.000000     2.533220e+05             5.762694   \n",
      "75%          176.000000   2012.000000     1.424034e+06            17.006000   \n",
      "max          514.000000   2018.000000     5.558942e+08           341.260000   \n",
      "\n",
      "       fuel_cost_per_unit_burned  fuel_cost_per_unit_delivered  \\\n",
      "count               29523.000000                  2.952300e+04   \n",
      "mean                  208.649031                  9.175704e+02   \n",
      "std                  2854.490090                  6.877593e+04   \n",
      "min                  -276.080000                 -8.749370e+02   \n",
      "25%                     5.207000                  3.778500e+00   \n",
      "50%                    26.000000                  1.737100e+01   \n",
      "75%                    47.113000                  4.213700e+01   \n",
      "max                139358.000000                  7.964521e+06   \n",
      "\n",
      "       fuel_cost_per_mmbtu  \n",
      "count         29523.000000  \n",
      "mean             19.304354  \n",
      "std            2091.540939  \n",
      "min             -41.501000  \n",
      "25%               1.940000  \n",
      "50%               4.127000  \n",
      "75%               7.745000  \n",
      "max          359278.000000  \n"
     ]
    }
   ],
   "source": [
    "print(data.describe())"
   ]
  },
  {
   "cell_type": "markdown",
   "metadata": {},
   "source": [
    "###### Now I intend to explore the various fields using statistical approach "
   ]
  },
  {
   "cell_type": "code",
   "execution_count": 5,
   "metadata": {},
   "outputs": [
    {
     "data": {
      "text/html": [
       "<div>\n",
       "<style scoped>\n",
       "    .dataframe tbody tr th:only-of-type {\n",
       "        vertical-align: middle;\n",
       "    }\n",
       "\n",
       "    .dataframe tbody tr th {\n",
       "        vertical-align: top;\n",
       "    }\n",
       "\n",
       "    .dataframe thead th {\n",
       "        text-align: right;\n",
       "    }\n",
       "</style>\n",
       "<table border=\"1\" class=\"dataframe\">\n",
       "  <thead>\n",
       "    <tr style=\"text-align: right;\">\n",
       "      <th></th>\n",
       "      <th>utility_id_ferc1</th>\n",
       "      <th>report_year</th>\n",
       "      <th>fuel_qty_burned</th>\n",
       "      <th>fuel_mmbtu_per_unit</th>\n",
       "      <th>fuel_cost_per_unit_burned</th>\n",
       "      <th>fuel_cost_per_unit_delivered</th>\n",
       "      <th>fuel_cost_per_mmbtu</th>\n",
       "    </tr>\n",
       "    <tr>\n",
       "      <th>fuel_unit</th>\n",
       "      <th></th>\n",
       "      <th></th>\n",
       "      <th></th>\n",
       "      <th></th>\n",
       "      <th></th>\n",
       "      <th></th>\n",
       "      <th></th>\n",
       "    </tr>\n",
       "  </thead>\n",
       "  <tbody>\n",
       "    <tr>\n",
       "      <th>bbl</th>\n",
       "      <td>113.042261</td>\n",
       "      <td>2007.124406</td>\n",
       "      <td>6.133931e+04</td>\n",
       "      <td>5.784436</td>\n",
       "      <td>169.984768</td>\n",
       "      <td>316.203836</td>\n",
       "      <td>12.644087</td>\n",
       "    </tr>\n",
       "    <tr>\n",
       "      <th>gal</th>\n",
       "      <td>114.571429</td>\n",
       "      <td>2007.654762</td>\n",
       "      <td>3.449470e+05</td>\n",
       "      <td>5.523795</td>\n",
       "      <td>10.203131</td>\n",
       "      <td>7.469714</td>\n",
       "      <td>12.735931</td>\n",
       "    </tr>\n",
       "    <tr>\n",
       "      <th>gramsU</th>\n",
       "      <td>125.198276</td>\n",
       "      <td>2002.002155</td>\n",
       "      <td>7.963714e+05</td>\n",
       "      <td>24.931841</td>\n",
       "      <td>299.535086</td>\n",
       "      <td>47580.852062</td>\n",
       "      <td>1.461127</td>\n",
       "    </tr>\n",
       "    <tr>\n",
       "      <th>kgU</th>\n",
       "      <td>53.181818</td>\n",
       "      <td>2005.900000</td>\n",
       "      <td>2.256575e+05</td>\n",
       "      <td>3.201433</td>\n",
       "      <td>35543.026527</td>\n",
       "      <td>12086.207773</td>\n",
       "      <td>3.406564</td>\n",
       "    </tr>\n",
       "    <tr>\n",
       "      <th>mcf</th>\n",
       "      <td>123.854236</td>\n",
       "      <td>2005.962216</td>\n",
       "      <td>4.870243e+06</td>\n",
       "      <td>1.034234</td>\n",
       "      <td>12.882686</td>\n",
       "      <td>11.296444</td>\n",
       "      <td>5.468244</td>\n",
       "    </tr>\n",
       "    <tr>\n",
       "      <th>mmbtu</th>\n",
       "      <td>96.544444</td>\n",
       "      <td>2005.938889</td>\n",
       "      <td>1.364729e+07</td>\n",
       "      <td>8.064419</td>\n",
       "      <td>60.846189</td>\n",
       "      <td>60.273678</td>\n",
       "      <td>3.325661</td>\n",
       "    </tr>\n",
       "    <tr>\n",
       "      <th>mwdth</th>\n",
       "      <td>88.178947</td>\n",
       "      <td>2001.189474</td>\n",
       "      <td>6.774796e+05</td>\n",
       "      <td>8.963048</td>\n",
       "      <td>38.474389</td>\n",
       "      <td>14.471158</td>\n",
       "      <td>0.460937</td>\n",
       "    </tr>\n",
       "    <tr>\n",
       "      <th>mwhth</th>\n",
       "      <td>111.800000</td>\n",
       "      <td>2006.400000</td>\n",
       "      <td>2.892479e+07</td>\n",
       "      <td>6.794154</td>\n",
       "      <td>5.287160</td>\n",
       "      <td>0.000000</td>\n",
       "      <td>1.529200</td>\n",
       "    </tr>\n",
       "    <tr>\n",
       "      <th>ton</th>\n",
       "      <td>117.939049</td>\n",
       "      <td>2004.692007</td>\n",
       "      <td>1.667436e+06</td>\n",
       "      <td>19.578150</td>\n",
       "      <td>65.234330</td>\n",
       "      <td>112.467842</td>\n",
       "      <td>42.197384</td>\n",
       "    </tr>\n",
       "  </tbody>\n",
       "</table>\n",
       "</div>"
      ],
      "text/plain": [
       "           utility_id_ferc1  report_year  fuel_qty_burned  \\\n",
       "fuel_unit                                                   \n",
       "bbl              113.042261  2007.124406     6.133931e+04   \n",
       "gal              114.571429  2007.654762     3.449470e+05   \n",
       "gramsU           125.198276  2002.002155     7.963714e+05   \n",
       "kgU               53.181818  2005.900000     2.256575e+05   \n",
       "mcf              123.854236  2005.962216     4.870243e+06   \n",
       "mmbtu             96.544444  2005.938889     1.364729e+07   \n",
       "mwdth             88.178947  2001.189474     6.774796e+05   \n",
       "mwhth            111.800000  2006.400000     2.892479e+07   \n",
       "ton              117.939049  2004.692007     1.667436e+06   \n",
       "\n",
       "           fuel_mmbtu_per_unit  fuel_cost_per_unit_burned  \\\n",
       "fuel_unit                                                   \n",
       "bbl                   5.784436                 169.984768   \n",
       "gal                   5.523795                  10.203131   \n",
       "gramsU               24.931841                 299.535086   \n",
       "kgU                   3.201433               35543.026527   \n",
       "mcf                   1.034234                  12.882686   \n",
       "mmbtu                 8.064419                  60.846189   \n",
       "mwdth                 8.963048                  38.474389   \n",
       "mwhth                 6.794154                   5.287160   \n",
       "ton                  19.578150                  65.234330   \n",
       "\n",
       "           fuel_cost_per_unit_delivered  fuel_cost_per_mmbtu  \n",
       "fuel_unit                                                     \n",
       "bbl                          316.203836            12.644087  \n",
       "gal                            7.469714            12.735931  \n",
       "gramsU                     47580.852062             1.461127  \n",
       "kgU                        12086.207773             3.406564  \n",
       "mcf                           11.296444             5.468244  \n",
       "mmbtu                         60.273678             3.325661  \n",
       "mwdth                         14.471158             0.460937  \n",
       "mwhth                          0.000000             1.529200  \n",
       "ton                          112.467842            42.197384  "
      ]
     },
     "execution_count": 5,
     "metadata": {},
     "output_type": "execute_result"
    }
   ],
   "source": [
    "data.groupby('fuel_unit').mean()"
   ]
  },
  {
   "cell_type": "markdown",
   "metadata": {},
   "source": [
    "###### observation : \n",
    "the gramU and kgU has a very high cost both in unit fuel burned and in the delivery cost"
   ]
  },
  {
   "cell_type": "code",
   "execution_count": 6,
   "metadata": {},
   "outputs": [
    {
     "data": {
      "text/html": [
       "<div>\n",
       "<style scoped>\n",
       "    .dataframe tbody tr th:only-of-type {\n",
       "        vertical-align: middle;\n",
       "    }\n",
       "\n",
       "    .dataframe tbody tr th {\n",
       "        vertical-align: top;\n",
       "    }\n",
       "\n",
       "    .dataframe thead th {\n",
       "        text-align: right;\n",
       "    }\n",
       "</style>\n",
       "<table border=\"1\" class=\"dataframe\">\n",
       "  <thead>\n",
       "    <tr style=\"text-align: right;\">\n",
       "      <th></th>\n",
       "      <th>utility_id_ferc1</th>\n",
       "      <th>report_year</th>\n",
       "      <th>fuel_qty_burned</th>\n",
       "      <th>fuel_mmbtu_per_unit</th>\n",
       "      <th>fuel_cost_per_unit_burned</th>\n",
       "      <th>fuel_cost_per_unit_delivered</th>\n",
       "      <th>fuel_cost_per_mmbtu</th>\n",
       "    </tr>\n",
       "    <tr>\n",
       "      <th>fuel_type_code_pudl</th>\n",
       "      <th></th>\n",
       "      <th></th>\n",
       "      <th></th>\n",
       "      <th></th>\n",
       "      <th></th>\n",
       "      <th></th>\n",
       "      <th></th>\n",
       "    </tr>\n",
       "  </thead>\n",
       "  <tbody>\n",
       "    <tr>\n",
       "      <th>coal</th>\n",
       "      <td>115.637534</td>\n",
       "      <td>2004.623143</td>\n",
       "      <td>1.903473e+06</td>\n",
       "      <td>20.762780</td>\n",
       "      <td>67.421830</td>\n",
       "      <td>116.951141</td>\n",
       "      <td>1.787190</td>\n",
       "    </tr>\n",
       "    <tr>\n",
       "      <th>gas</th>\n",
       "      <td>124.122062</td>\n",
       "      <td>2005.978060</td>\n",
       "      <td>4.843183e+06</td>\n",
       "      <td>1.021913</td>\n",
       "      <td>13.659397</td>\n",
       "      <td>12.095172</td>\n",
       "      <td>5.408876</td>\n",
       "    </tr>\n",
       "    <tr>\n",
       "      <th>nuclear</th>\n",
       "      <td>107.397311</td>\n",
       "      <td>2002.970660</td>\n",
       "      <td>5.454838e+06</td>\n",
       "      <td>17.582120</td>\n",
       "      <td>4955.157002</td>\n",
       "      <td>28616.915039</td>\n",
       "      <td>1.716559</td>\n",
       "    </tr>\n",
       "    <tr>\n",
       "      <th>oil</th>\n",
       "      <td>113.236235</td>\n",
       "      <td>2007.195933</td>\n",
       "      <td>6.311677e+04</td>\n",
       "      <td>5.814377</td>\n",
       "      <td>168.877086</td>\n",
       "      <td>313.907691</td>\n",
       "      <td>12.698732</td>\n",
       "    </tr>\n",
       "    <tr>\n",
       "      <th>other</th>\n",
       "      <td>110.467066</td>\n",
       "      <td>2001.700599</td>\n",
       "      <td>2.948137e+06</td>\n",
       "      <td>0.572752</td>\n",
       "      <td>18.253856</td>\n",
       "      <td>16.871485</td>\n",
       "      <td>155.084910</td>\n",
       "    </tr>\n",
       "    <tr>\n",
       "      <th>waste</th>\n",
       "      <td>154.253968</td>\n",
       "      <td>2005.650794</td>\n",
       "      <td>1.171914e+05</td>\n",
       "      <td>0.341163</td>\n",
       "      <td>19.518122</td>\n",
       "      <td>18.413052</td>\n",
       "      <td>822.709937</td>\n",
       "    </tr>\n",
       "  </tbody>\n",
       "</table>\n",
       "</div>"
      ],
      "text/plain": [
       "                     utility_id_ferc1  report_year  fuel_qty_burned  \\\n",
       "fuel_type_code_pudl                                                   \n",
       "coal                       115.637534  2004.623143     1.903473e+06   \n",
       "gas                        124.122062  2005.978060     4.843183e+06   \n",
       "nuclear                    107.397311  2002.970660     5.454838e+06   \n",
       "oil                        113.236235  2007.195933     6.311677e+04   \n",
       "other                      110.467066  2001.700599     2.948137e+06   \n",
       "waste                      154.253968  2005.650794     1.171914e+05   \n",
       "\n",
       "                     fuel_mmbtu_per_unit  fuel_cost_per_unit_burned  \\\n",
       "fuel_type_code_pudl                                                   \n",
       "coal                           20.762780                  67.421830   \n",
       "gas                             1.021913                  13.659397   \n",
       "nuclear                        17.582120                4955.157002   \n",
       "oil                             5.814377                 168.877086   \n",
       "other                           0.572752                  18.253856   \n",
       "waste                           0.341163                  19.518122   \n",
       "\n",
       "                     fuel_cost_per_unit_delivered  fuel_cost_per_mmbtu  \n",
       "fuel_type_code_pudl                                                     \n",
       "coal                                   116.951141             1.787190  \n",
       "gas                                     12.095172             5.408876  \n",
       "nuclear                              28616.915039             1.716559  \n",
       "oil                                    313.907691            12.698732  \n",
       "other                                   16.871485           155.084910  \n",
       "waste                                   18.413052           822.709937  "
      ]
     },
     "execution_count": 6,
     "metadata": {},
     "output_type": "execute_result"
    }
   ],
   "source": [
    "data.groupby('fuel_type_code_pudl').mean()"
   ]
  },
  {
   "cell_type": "markdown",
   "metadata": {},
   "source": [
    "###### observation:\n",
    "In all the type of fuel sources we have in our dataset, nuclear fuel appears to be the most expensive with a high margin, followed by oil."
   ]
  },
  {
   "cell_type": "code",
   "execution_count": 7,
   "metadata": {},
   "outputs": [
    {
     "data": {
      "text/html": [
       "<div>\n",
       "<style scoped>\n",
       "    .dataframe tbody tr th:only-of-type {\n",
       "        vertical-align: middle;\n",
       "    }\n",
       "\n",
       "    .dataframe tbody tr th {\n",
       "        vertical-align: top;\n",
       "    }\n",
       "\n",
       "    .dataframe thead th {\n",
       "        text-align: right;\n",
       "    }\n",
       "</style>\n",
       "<table border=\"1\" class=\"dataframe\">\n",
       "  <thead>\n",
       "    <tr style=\"text-align: right;\">\n",
       "      <th></th>\n",
       "      <th>utility_id_ferc1</th>\n",
       "      <th>report_year</th>\n",
       "      <th>fuel_qty_burned</th>\n",
       "      <th>fuel_mmbtu_per_unit</th>\n",
       "      <th>fuel_cost_per_unit_burned</th>\n",
       "      <th>fuel_cost_per_unit_delivered</th>\n",
       "      <th>fuel_cost_per_mmbtu</th>\n",
       "    </tr>\n",
       "    <tr>\n",
       "      <th>plant_name_ferc1</th>\n",
       "      <th></th>\n",
       "      <th></th>\n",
       "      <th></th>\n",
       "      <th></th>\n",
       "      <th></th>\n",
       "      <th></th>\n",
       "      <th></th>\n",
       "    </tr>\n",
       "  </thead>\n",
       "  <tbody>\n",
       "    <tr>\n",
       "      <th>(1)sta98</th>\n",
       "      <td>151.0</td>\n",
       "      <td>1994.000000</td>\n",
       "      <td>3.304400e+04</td>\n",
       "      <td>1.031000</td>\n",
       "      <td>3.500000</td>\n",
       "      <td>3.500000</td>\n",
       "      <td>3.399000</td>\n",
       "    </tr>\n",
       "    <tr>\n",
       "      <th>(2) scriba sta. 99</th>\n",
       "      <td>151.0</td>\n",
       "      <td>1994.000000</td>\n",
       "      <td>1.071290e+05</td>\n",
       "      <td>0.000120</td>\n",
       "      <td>59.790000</td>\n",
       "      <td>1.274000</td>\n",
       "      <td>0.499000</td>\n",
       "    </tr>\n",
       "    <tr>\n",
       "      <th>(n) contra costa</th>\n",
       "      <td>133.0</td>\n",
       "      <td>1995.000000</td>\n",
       "      <td>1.133822e+07</td>\n",
       "      <td>1.030497</td>\n",
       "      <td>2.180000</td>\n",
       "      <td>0.000000</td>\n",
       "      <td>2.110000</td>\n",
       "    </tr>\n",
       "    <tr>\n",
       "      <th>(n) pittsburg</th>\n",
       "      <td>133.0</td>\n",
       "      <td>1995.000000</td>\n",
       "      <td>3.485118e+07</td>\n",
       "      <td>1.028679</td>\n",
       "      <td>2.250000</td>\n",
       "      <td>0.000000</td>\n",
       "      <td>2.180000</td>\n",
       "    </tr>\n",
       "    <tr>\n",
       "      <th>(n)(t)moss landing</th>\n",
       "      <td>133.0</td>\n",
       "      <td>1994.000000</td>\n",
       "      <td>8.786345e+07</td>\n",
       "      <td>1.021308</td>\n",
       "      <td>2.260000</td>\n",
       "      <td>0.000000</td>\n",
       "      <td>2.220000</td>\n",
       "    </tr>\n",
       "    <tr>\n",
       "      <th>...</th>\n",
       "      <td>...</td>\n",
       "      <td>...</td>\n",
       "      <td>...</td>\n",
       "      <td>...</td>\n",
       "      <td>...</td>\n",
       "      <td>...</td>\n",
       "      <td>...</td>\n",
       "    </tr>\n",
       "    <tr>\n",
       "      <th>zimmer- aepgr share</th>\n",
       "      <td>452.0</td>\n",
       "      <td>2014.000000</td>\n",
       "      <td>3.635035e+05</td>\n",
       "      <td>14.896952</td>\n",
       "      <td>93.513500</td>\n",
       "      <td>127.119000</td>\n",
       "      <td>12.683500</td>\n",
       "    </tr>\n",
       "    <tr>\n",
       "      <th>zion</th>\n",
       "      <td>32.0</td>\n",
       "      <td>1995.000000</td>\n",
       "      <td>1.080967e+06</td>\n",
       "      <td>117.750000</td>\n",
       "      <td>0.000000</td>\n",
       "      <td>0.000000</td>\n",
       "      <td>0.481333</td>\n",
       "    </tr>\n",
       "    <tr>\n",
       "      <th>zorn</th>\n",
       "      <td>88.0</td>\n",
       "      <td>2000.666667</td>\n",
       "      <td>1.938983e+04</td>\n",
       "      <td>1.025000</td>\n",
       "      <td>4.409083</td>\n",
       "      <td>4.415083</td>\n",
       "      <td>4.306750</td>\n",
       "    </tr>\n",
       "    <tr>\n",
       "      <th>zorn ct</th>\n",
       "      <td>88.0</td>\n",
       "      <td>2013.400000</td>\n",
       "      <td>5.367400e+03</td>\n",
       "      <td>1.015500</td>\n",
       "      <td>5.665500</td>\n",
       "      <td>5.665500</td>\n",
       "      <td>5.568800</td>\n",
       "    </tr>\n",
       "    <tr>\n",
       "      <th>zuni</th>\n",
       "      <td>145.0</td>\n",
       "      <td>2004.000000</td>\n",
       "      <td>3.000809e+05</td>\n",
       "      <td>1.290596</td>\n",
       "      <td>32.036176</td>\n",
       "      <td>30.949294</td>\n",
       "      <td>5.839076</td>\n",
       "    </tr>\n",
       "  </tbody>\n",
       "</table>\n",
       "<p>2315 rows × 7 columns</p>\n",
       "</div>"
      ],
      "text/plain": [
       "                     utility_id_ferc1  report_year  fuel_qty_burned  \\\n",
       "plant_name_ferc1                                                      \n",
       "(1)sta98                        151.0  1994.000000     3.304400e+04   \n",
       "(2) scriba sta. 99              151.0  1994.000000     1.071290e+05   \n",
       "(n) contra costa                133.0  1995.000000     1.133822e+07   \n",
       "(n) pittsburg                   133.0  1995.000000     3.485118e+07   \n",
       "(n)(t)moss landing              133.0  1994.000000     8.786345e+07   \n",
       "...                               ...          ...              ...   \n",
       "zimmer- aepgr share             452.0  2014.000000     3.635035e+05   \n",
       "zion                             32.0  1995.000000     1.080967e+06   \n",
       "zorn                             88.0  2000.666667     1.938983e+04   \n",
       "zorn ct                          88.0  2013.400000     5.367400e+03   \n",
       "zuni                            145.0  2004.000000     3.000809e+05   \n",
       "\n",
       "                     fuel_mmbtu_per_unit  fuel_cost_per_unit_burned  \\\n",
       "plant_name_ferc1                                                      \n",
       "(1)sta98                        1.031000                   3.500000   \n",
       "(2) scriba sta. 99              0.000120                  59.790000   \n",
       "(n) contra costa                1.030497                   2.180000   \n",
       "(n) pittsburg                   1.028679                   2.250000   \n",
       "(n)(t)moss landing              1.021308                   2.260000   \n",
       "...                                  ...                        ...   \n",
       "zimmer- aepgr share            14.896952                  93.513500   \n",
       "zion                          117.750000                   0.000000   \n",
       "zorn                            1.025000                   4.409083   \n",
       "zorn ct                         1.015500                   5.665500   \n",
       "zuni                            1.290596                  32.036176   \n",
       "\n",
       "                     fuel_cost_per_unit_delivered  fuel_cost_per_mmbtu  \n",
       "plant_name_ferc1                                                        \n",
       "(1)sta98                                 3.500000             3.399000  \n",
       "(2) scriba sta. 99                       1.274000             0.499000  \n",
       "(n) contra costa                         0.000000             2.110000  \n",
       "(n) pittsburg                            0.000000             2.180000  \n",
       "(n)(t)moss landing                       0.000000             2.220000  \n",
       "...                                           ...                  ...  \n",
       "zimmer- aepgr share                    127.119000            12.683500  \n",
       "zion                                     0.000000             0.481333  \n",
       "zorn                                     4.415083             4.306750  \n",
       "zorn ct                                  5.665500             5.568800  \n",
       "zuni                                    30.949294             5.839076  \n",
       "\n",
       "[2315 rows x 7 columns]"
      ]
     },
     "execution_count": 7,
     "metadata": {},
     "output_type": "execute_result"
    }
   ],
   "source": [
    "data.groupby('plant_name_ferc1').mean()"
   ]
  },
  {
   "cell_type": "code",
   "execution_count": 8,
   "metadata": {},
   "outputs": [
    {
     "data": {
      "text/plain": [
       "2315"
      ]
     },
     "execution_count": 8,
     "metadata": {},
     "output_type": "execute_result"
    }
   ],
   "source": [
    "data['plant_name_ferc1'].nunique()"
   ]
  },
  {
   "cell_type": "markdown",
   "metadata": {},
   "source": [
    "###### Checking for new columns\n",
    "Now I intend to augument my dataset by adding a new column that measures the total energy used relative to fuel quantity burned using mmbtu as my standard unit of measurement, so i can compare to multiple fuel sources and fuel units in our data"
   ]
  },
  {
   "cell_type": "code",
   "execution_count": 9,
   "metadata": {},
   "outputs": [],
   "source": [
    "data['total_energy_generatd'] = data['fuel_qty_burned'] * data['fuel_mmbtu_per_unit']"
   ]
  },
  {
   "cell_type": "code",
   "execution_count": 28,
   "metadata": {},
   "outputs": [
    {
     "data": {
      "text/html": [
       "<div>\n",
       "<style scoped>\n",
       "    .dataframe tbody tr th:only-of-type {\n",
       "        vertical-align: middle;\n",
       "    }\n",
       "\n",
       "    .dataframe tbody tr th {\n",
       "        vertical-align: top;\n",
       "    }\n",
       "\n",
       "    .dataframe thead th {\n",
       "        text-align: right;\n",
       "    }\n",
       "</style>\n",
       "<table border=\"1\" class=\"dataframe\">\n",
       "  <thead>\n",
       "    <tr style=\"text-align: right;\">\n",
       "      <th></th>\n",
       "      <th>utility_id_ferc1</th>\n",
       "      <th>report_year</th>\n",
       "      <th>plant_name_ferc1</th>\n",
       "      <th>fuel_type_code_pudl</th>\n",
       "      <th>fuel_unit</th>\n",
       "      <th>fuel_qty_burned</th>\n",
       "      <th>fuel_mmbtu_per_unit</th>\n",
       "      <th>fuel_cost_per_unit_burned</th>\n",
       "      <th>fuel_cost_per_unit_delivered</th>\n",
       "      <th>fuel_cost_per_mmbtu</th>\n",
       "      <th>total_energy_generatd</th>\n",
       "    </tr>\n",
       "    <tr>\n",
       "      <th>record_id</th>\n",
       "      <th></th>\n",
       "      <th></th>\n",
       "      <th></th>\n",
       "      <th></th>\n",
       "      <th></th>\n",
       "      <th></th>\n",
       "      <th></th>\n",
       "      <th></th>\n",
       "      <th></th>\n",
       "      <th></th>\n",
       "      <th></th>\n",
       "    </tr>\n",
       "  </thead>\n",
       "  <tbody>\n",
       "    <tr>\n",
       "      <th>f1_fuel_1994_12_1_0_7</th>\n",
       "      <td>1</td>\n",
       "      <td>1994</td>\n",
       "      <td>rockport</td>\n",
       "      <td>coal</td>\n",
       "      <td>ton</td>\n",
       "      <td>5377489.0</td>\n",
       "      <td>16.590</td>\n",
       "      <td>18.59</td>\n",
       "      <td>18.53</td>\n",
       "      <td>1.121</td>\n",
       "      <td>8.921254e+07</td>\n",
       "    </tr>\n",
       "    <tr>\n",
       "      <th>f1_fuel_1994_12_1_0_10</th>\n",
       "      <td>1</td>\n",
       "      <td>1994</td>\n",
       "      <td>rockport total plant</td>\n",
       "      <td>coal</td>\n",
       "      <td>ton</td>\n",
       "      <td>10486945.0</td>\n",
       "      <td>16.592</td>\n",
       "      <td>18.58</td>\n",
       "      <td>18.53</td>\n",
       "      <td>1.120</td>\n",
       "      <td>1.739994e+08</td>\n",
       "    </tr>\n",
       "    <tr>\n",
       "      <th>f1_fuel_1994_12_2_0_1</th>\n",
       "      <td>2</td>\n",
       "      <td>1994</td>\n",
       "      <td>gorgas</td>\n",
       "      <td>coal</td>\n",
       "      <td>ton</td>\n",
       "      <td>2978683.0</td>\n",
       "      <td>24.130</td>\n",
       "      <td>39.72</td>\n",
       "      <td>38.12</td>\n",
       "      <td>1.650</td>\n",
       "      <td>7.187562e+07</td>\n",
       "    </tr>\n",
       "    <tr>\n",
       "      <th>f1_fuel_1994_12_2_0_7</th>\n",
       "      <td>2</td>\n",
       "      <td>1994</td>\n",
       "      <td>barry</td>\n",
       "      <td>coal</td>\n",
       "      <td>ton</td>\n",
       "      <td>3739484.0</td>\n",
       "      <td>23.950</td>\n",
       "      <td>47.21</td>\n",
       "      <td>45.99</td>\n",
       "      <td>1.970</td>\n",
       "      <td>8.956064e+07</td>\n",
       "    </tr>\n",
       "    <tr>\n",
       "      <th>f1_fuel_1994_12_2_0_10</th>\n",
       "      <td>2</td>\n",
       "      <td>1994</td>\n",
       "      <td>chickasaw</td>\n",
       "      <td>gas</td>\n",
       "      <td>mcf</td>\n",
       "      <td>40533.0</td>\n",
       "      <td>1.000</td>\n",
       "      <td>2.77</td>\n",
       "      <td>2.77</td>\n",
       "      <td>2.570</td>\n",
       "      <td>4.053300e+04</td>\n",
       "    </tr>\n",
       "  </tbody>\n",
       "</table>\n",
       "</div>"
      ],
      "text/plain": [
       "                        utility_id_ferc1  report_year      plant_name_ferc1  \\\n",
       "record_id                                                                     \n",
       "f1_fuel_1994_12_1_0_7                  1         1994              rockport   \n",
       "f1_fuel_1994_12_1_0_10                 1         1994  rockport total plant   \n",
       "f1_fuel_1994_12_2_0_1                  2         1994                gorgas   \n",
       "f1_fuel_1994_12_2_0_7                  2         1994                 barry   \n",
       "f1_fuel_1994_12_2_0_10                 2         1994             chickasaw   \n",
       "\n",
       "                       fuel_type_code_pudl fuel_unit  fuel_qty_burned  \\\n",
       "record_id                                                               \n",
       "f1_fuel_1994_12_1_0_7                 coal       ton        5377489.0   \n",
       "f1_fuel_1994_12_1_0_10                coal       ton       10486945.0   \n",
       "f1_fuel_1994_12_2_0_1                 coal       ton        2978683.0   \n",
       "f1_fuel_1994_12_2_0_7                 coal       ton        3739484.0   \n",
       "f1_fuel_1994_12_2_0_10                 gas       mcf          40533.0   \n",
       "\n",
       "                        fuel_mmbtu_per_unit  fuel_cost_per_unit_burned  \\\n",
       "record_id                                                                \n",
       "f1_fuel_1994_12_1_0_7                16.590                      18.59   \n",
       "f1_fuel_1994_12_1_0_10               16.592                      18.58   \n",
       "f1_fuel_1994_12_2_0_1                24.130                      39.72   \n",
       "f1_fuel_1994_12_2_0_7                23.950                      47.21   \n",
       "f1_fuel_1994_12_2_0_10                1.000                       2.77   \n",
       "\n",
       "                        fuel_cost_per_unit_delivered  fuel_cost_per_mmbtu  \\\n",
       "record_id                                                                   \n",
       "f1_fuel_1994_12_1_0_7                          18.53                1.121   \n",
       "f1_fuel_1994_12_1_0_10                         18.53                1.120   \n",
       "f1_fuel_1994_12_2_0_1                          38.12                1.650   \n",
       "f1_fuel_1994_12_2_0_7                          45.99                1.970   \n",
       "f1_fuel_1994_12_2_0_10                          2.77                2.570   \n",
       "\n",
       "                        total_energy_generatd  \n",
       "record_id                                      \n",
       "f1_fuel_1994_12_1_0_7            8.921254e+07  \n",
       "f1_fuel_1994_12_1_0_10           1.739994e+08  \n",
       "f1_fuel_1994_12_2_0_1            7.187562e+07  \n",
       "f1_fuel_1994_12_2_0_7            8.956064e+07  \n",
       "f1_fuel_1994_12_2_0_10           4.053300e+04  "
      ]
     },
     "execution_count": 28,
     "metadata": {},
     "output_type": "execute_result"
    }
   ],
   "source": [
    "data.head()"
   ]
  },
  {
   "cell_type": "markdown",
   "metadata": {},
   "source": [
    "### Problem-3: Visualization\n",
    "Here I intend to use visualization to study our data for more insight"
   ]
  },
  {
   "cell_type": "code",
   "execution_count": 11,
   "metadata": {},
   "outputs": [],
   "source": [
    "import matplotlib as pyplot\n",
    "import numpy as np\n",
    "import matplotlib.pyplot as plt\n",
    "import seaborn as sns\n",
    "%matplotlib inline"
   ]
  },
  {
   "cell_type": "markdown",
   "metadata": {},
   "source": [
    "I wish to use heatmap to check how well our data is correlated "
   ]
  },
  {
   "cell_type": "code",
   "execution_count": 12,
   "metadata": {},
   "outputs": [
    {
     "data": {
      "image/png": "[encoded data removed]",
      "text/plain": [
       "<Figure size 432x288 with 2 Axes>"
      ]
     },
     "metadata": {
      "needs_background": "light"
     },
     "output_type": "display_data"
    }
   ],
   "source": [
    "sns.heatmap(data.corr())\n",
    "plt.show()"
   ]
  },
  {
   "cell_type": "code",
   "execution_count": 13,
   "metadata": {},
   "outputs": [
    {
     "data": {
      "image/png": "[encoded data removed]",
      "text/plain": [
       "<Figure size 432x288 with 1 Axes>"
      ]
     },
     "metadata": {
      "needs_background": "light"
     },
     "output_type": "display_data"
    }
   ],
   "source": [
    "sns.countplot(data['fuel_type_code_pudl'])\n",
    "\n",
    "plt.title('fig.1 :Frequency distribution according to fuel_types')\n",
    "plt.grid()\n",
    "plt.show()"
   ]
  },
  {
   "cell_type": "markdown",
   "metadata": {},
   "source": [
    "###### observation: \n",
    "the above plot shows gas was used more often followed by coal and then oil,so it is reasonable to say the lesser the cost of fuel the more usuage. Nuclear fuel being the most expensive was used less. "
   ]
  },
  {
   "cell_type": "code",
   "execution_count": 14,
   "metadata": {},
   "outputs": [
    {
     "data": {
      "image/png": "[encoded data removed]",
      "text/plain": [
       "<Figure size 432x288 with 1 Axes>"
      ]
     },
     "metadata": {
      "needs_background": "light"
     },
     "output_type": "display_data"
    }
   ],
   "source": [
    "sns.barplot(data['fuel_unit'], data['fuel_cost_per_unit_burned'], data=data)\n",
    "\n",
    "plt.title('fig.2: fuel_unit vs fuel_cost_per_unit_burned')\n",
    "plt.ylabel('fuel_cost_per_unit_burned')\n",
    "plt.xlabel('fuel unit')\n",
    "plt.grid()\n",
    "plt.show()"
   ]
  },
  {
   "cell_type": "markdown",
   "metadata": {},
   "source": [
    "###### observation:\n",
    "The plot above clearly shows that of all other fuel units in our dataset , the cost of burning fuel measured in kgU is by far more costly than the rest"
   ]
  },
  {
   "cell_type": "code",
   "execution_count": 15,
   "metadata": {},
   "outputs": [
    {
     "data": {
      "image/png": "[encoded data removed]",
      "text/plain": [
       "<Figure size 432x288 with 1 Axes>"
      ]
     },
     "metadata": {
      "needs_background": "light"
     },
     "output_type": "display_data"
    }
   ],
   "source": [
    "sns.barplot(data['report_year'], data['total_energy_generatd'], data=data)\n",
    "\n",
    "plt.xticks(rotation=90)\n",
    "plt.grid()\n",
    "plt.title('fig.3: Energy Generated in different Years')\n",
    "plt.show()"
   ]
  },
  {
   "cell_type": "markdown",
   "metadata": {},
   "source": [
    "###### observation: \n",
    "the above plot shows high energies were generated in the year 1995 & 1998,and the energies generated between the year 2005 to 2018 differs by a margin"
   ]
  },
  {
   "cell_type": "code",
   "execution_count": 33,
   "metadata": {},
   "outputs": [
    {
     "data": {
      "image/png": "[encoded data removed]",
      "text/plain": [
       "<Figure size 432x288 with 1 Axes>"
      ]
     },
     "metadata": {
      "needs_background": "light"
     },
     "output_type": "display_data"
    }
   ],
   "source": [
    "sns.barplot(data['fuel_type_code_pudl'], data['total_energy_generatd'], data=data)\n",
    "\n",
    "plt.title('fig.4:Total energy generated relative to fuel_type')\n",
    "plt.grid()\n",
    "plt.show()"
   ]
  },
  {
   "cell_type": "markdown",
   "metadata": {},
   "source": [
    "###### observation: \n",
    "The above plot clearly indicates nuclear and coal fuel types generates much higher energy than the rest of the type"
   ]
  },
  {
   "cell_type": "code",
   "execution_count": 26,
   "metadata": {},
   "outputs": [
    {
     "data": {
      "image/png": "[encoded data removed]",
      "text/plain": [
       "<Figure size 432x288 with 1 Axes>"
      ]
     },
     "metadata": {
      "needs_background": "light"
     },
     "output_type": "display_data"
    }
   ],
   "source": [
    "sns.lineplot(data['report_year'], data['fuel_qty_burned'],data=data)\n",
    "\n",
    "plt.title('fig.5: Quantity of fuel burned yearly')\n",
    "plt.show()"
   ]
  },
  {
   "cell_type": "markdown",
   "metadata": {},
   "source": [
    "###### observation:¶\n",
    "The above plot shows there is a trend in the quantity of fuel burned per year, which could mean there are other factors affecting the quantity of fuel burned per year"
   ]
  },
  {
   "cell_type": "code",
   "execution_count": 34,
   "metadata": {},
   "outputs": [
    {
     "data": {
      "image/png": "[encoded data removed]",
      "text/plain": [
       "<Figure size 432x288 with 1 Axes>"
      ]
     },
     "metadata": {
      "needs_background": "light"
     },
     "output_type": "display_data"
    }
   ],
   "source": [
    "sns.barplot(data['report_year'], data['fuel_cost_per_unit_delivered'], data=data)\n",
    "\n",
    "plt.xticks(rotation=90)\n",
    "plt.grid()\n",
    "plt.title('fig.6: fuel cost delivered in years')\n",
    "plt.show()"
   ]
  },
  {
   "cell_type": "markdown",
   "metadata": {},
   "source": [
    "###### observation :\n",
    "the above plot shows the year 1997 has the highest cost of fuel delivered"
   ]
  },
  {
   "cell_type": "code",
   "execution_count": 35,
   "metadata": {},
   "outputs": [
    {
     "data": {
      "image/png": "[encoded data removed]",
      "text/plain": [
       "<Figure size 720x360 with 1 Axes>"
      ]
     },
     "metadata": {
      "needs_background": "light"
     },
     "output_type": "display_data"
    }
   ],
   "source": [
    "plt.figure(figsize =(10,5))\n",
    "ax = sns.boxplot(data['fuel_cost_per_unit_delivered'], showfliers = False)\n",
    "\n",
    "plt.title('fig.7: kDE on fuel cost per unit delivered')\n",
    "plt.show()"
   ]
  },
  {
   "cell_type": "markdown",
   "metadata": {},
   "source": [
    "###### observation: \n",
    "The above plot shows the kernel density estimator of the  cost weight on fuel cost per unit delivered."
   ]
  },
  {
   "cell_type": "code",
   "execution_count": 36,
   "metadata": {
    "scrolled": true
   },
   "outputs": [
    {
     "data": {
      "image/png": "[encoded data removed]",
      "text/plain": [
       "<Figure size 432x288 with 2 Axes>"
      ]
     },
     "metadata": {
      "needs_background": "light"
     },
     "output_type": "display_data"
    }
   ],
   "source": [
    "cost = data.groupby('fuel_type_code_pudl').mean()['fuel_cost_per_unit_burned']\n",
    "\n",
    "fig, ax1= plt.subplots()\n",
    "ax2 = ax1.twinx()\n",
    "ax1.bar('fuel_type_code_pudl', 'fuel_qty_burned',data=data )\n",
    "ax2.plot(cost, color='red',data=data)\n",
    "\n",
    "ax1.set_xlabel('fuel type')\n",
    "ax1.set_ylabel(' fuel_qty_burned', color='blue')\n",
    "ax2.set_ylabel('cost', color='red')\n",
    "\n",
    "plt.title('fig.8')\n",
    "plt.grid()\n",
    "plt.show()"
   ]
  },
  {
   "cell_type": "markdown",
   "metadata": {},
   "source": [
    "### Analysis Summary\n",
    "I intend to use the following question to summarize my analysis"
   ]
  },
  {
   "cell_type": "markdown",
   "metadata": {},
   "source": [
    "### 1. Which year recorded the highest energy generated and is most likely to cause global warming?\n",
    "\n",
    "\n",
    "### 2. which fuel unit has the highest cost per unit burned¶?\n",
    "\n",
    "\n",
    "### 3.which fuel type was used most and why?\n",
    "\n",
    "\n",
    "### 4.which year has the highest cost of fuel delivered and why?\n",
    "\n",
    "\n",
    "### 5.which year bears the highest cost of fuel burned.And why"
   ]
  },
  {
   "cell_type": "markdown",
   "metadata": {},
   "source": [
    "### Proposed Answers"
   ]
  },
  {
   "cell_type": "markdown",
   "metadata": {},
   "source": [
    "### 1.  (cite fig.3): \n",
    "The highest energy generated was in the year 1998 followed by 1995 and 1997.But one looking closely one will observe that there is an overall slighly steady trend from 2005 till date .This is so as to leverage the emiision of green house gases emanating from fossil fuels which are the true agents of global warming."
   ]
  },
  {
   "cell_type": "markdown",
   "metadata": {},
   "source": [
    "### 2. (cite fig.2): \n",
    "Our analysis suggested that all fuel units that appeared in in kgU has a higher energy cost  "
   ]
  },
  {
   "cell_type": "markdown",
   "metadata": {},
   "source": [
    "### 3. (cite fig.1):\n",
    "In our graph it suggested that gas was used the most to generate energy which is done by the burning of natural gases to produce electricity.The reason it was used the most could be owing to the fact that the cost of burning natural gases appear to be cheaper than the rest. \n"
   ]
  },
  {
   "cell_type": "markdown",
   "metadata": {},
   "source": [
    "### 4. (cite fig.6):\n",
    "The year 1997 has the highest cost of fuel delivered, this is so because there is a stong positive correlation between the quantity of fuel burned and the cost of fuel delivered. Which goes by saying, the higher the quantity of fuel burned to produce electricity, the higher the cost per unit burned which overall increases the cost of electricity bills delivered."
   ]
  },
  {
   "cell_type": "markdown",
   "metadata": {},
   "source": [
    "### 5.(cite fig.8):\n",
    "In the graph above, coal has the highest quantity burned, but has a lower cost per unit burned. A general deduction from the graph shows there is a strong negative correlation between the the quantity of fuel burned and the cost of fuel burned, i.e the higher the quantity, the lower the cost.\n",
    "This clearly explains why coal is used majorly to produce electriciy worldwide, due to its low cost.\n",
    "On the other hand, nuclear power plant seems to have a very high cost which is reasonable to have a lower quantity of it burned to generate electricity."
   ]
  },
  {
   "cell_type": "code",
   "execution_count": null,
   "metadata": {},
   "outputs": [],
   "source": []
  }
 ],
 "metadata": {
  "kernelspec": {
   "display_name": "Python 3",
   "language": "python",
   "name": "python3"
  },
  "language_info": {
   "codemirror_mode": {
    "name": "ipython",
    "version": 3
   },
   "file_extension": ".py",
   "mimetype": "text/x-python",
   "name": "python",
   "nbconvert_exporter": "python",
   "pygments_lexer": "ipython3",
   "version": "3.7.6"
  }
 },
 "nbformat": 4,
 "nbformat_minor": 4
}
